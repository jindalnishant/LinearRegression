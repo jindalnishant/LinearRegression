{
 "cells": [
  {
   "cell_type": "code",
   "execution_count": 2,
   "metadata": {},
   "outputs": [],
   "source": [
    "# dataframe and plot\n",
    "import numpy as np\n",
    "import pandas as pd\n",
    "import matplotlib.pyplot as plt\n",
    "import matplotlib.ticker as ticker\n",
    "\n",
    "# dataset\n",
    "from sklearn.datasets import load_boston\n",
    "# scaling and dataset split\n",
    "from sklearn import preprocessing\n",
    "from sklearn.model_selection import train_test_split\n",
    "# OLS, Ridge\n",
    "from sklearn.linear_model import LinearRegression, Ridge\n",
    "# model evaluation\n",
    "from sklearn.metrics import r2_score, mean_squared_error\n",
    "from sklearn.linear_model import Lasso"
   ]
  },
  {
   "cell_type": "code",
   "execution_count": 25,
   "metadata": {},
   "outputs": [],
   "source": [
    "# load dataset\n",
    "house_price = load_boston()\n",
    "df = pd.DataFrame(house_price.data, columns=house_price.feature_names)\n",
    "df['PRICE'] = house_price.target"
   ]
  },
  {
   "cell_type": "code",
   "execution_count": 26,
   "metadata": {},
   "outputs": [],
   "source": [
    "# standardize and train/test split\n",
    "house_price.data = preprocessing.scale(house_price.data)\n",
    "X_train, X_test, y_train, y_test = train_test_split(\n",
    "    house_price.data, house_price.target, test_size=0.3, random_state=10)"
   ]
  },
  {
   "cell_type": "code",
   "execution_count": 33,
   "metadata": {},
   "outputs": [],
   "source": [
    "#Next, we can iterate the lambda values ranged from 0 to 199. \n",
    "#Note that the coefficients at lambda equal to zero (x = 0) are the same with the OLS coefficients.\n",
    "# initialize\n",
    "Lasso_reg = Lasso(alpha=0.01)\n",
    "Lasso_reg.fit(X_train, y_train)\n",
    "Lasso_df = pd.DataFrame({'variable': house_price.feature_names, 'estimate': Lasso_reg.coef_})\n",
    "lasso_train_pred = []\n",
    "lasso_test_pred = []"
   ]
  },
  {
   "cell_type": "code",
   "execution_count": 34,
   "metadata": {},
   "outputs": [
    {
     "name": "stdout",
     "output_type": "stream",
     "text": [
      "alpha is 1\n",
      "alpha is 2\n",
      "alpha is 3\n",
      "alpha is 4\n"
     ]
    }
   ],
   "source": [
    "# iterate lambdas\n",
    "for alpha in np.arange(1, 5, 1):\n",
    "    # training\n",
    "    print(\"alpha is \" +str(alpha) )\n",
    "    Lasso_reg = Lasso(alpha=alpha)\n",
    "    Lasso_reg.fit(X_train, y_train)\n",
    "    var_name = 'estimate' + str(alpha)\n",
    "    Lasso_df[var_name] = Lasso_reg.coef_\n",
    "    # prediction\n",
    "    lasso_train_pred.append(Lasso_reg.predict(X_train))\n",
    "    lasso_test_pred.append(Lasso_reg.predict(X_test))\n"
   ]
  },
  {
   "cell_type": "code",
   "execution_count": 35,
   "metadata": {},
   "outputs": [],
   "source": [
    "# organize dataframe\n",
    "Lasso_df = Lasso_df.set_index(\"variable\").T.rename_axis(\"estimate\")"
   ]
  },
  {
   "cell_type": "code",
   "execution_count": 36,
   "metadata": {},
   "outputs": [
    {
     "data": {
      "text/html": [
       "<div>\n",
       "<style scoped>\n",
       "    .dataframe tbody tr th:only-of-type {\n",
       "        vertical-align: middle;\n",
       "    }\n",
       "\n",
       "    .dataframe tbody tr th {\n",
       "        vertical-align: top;\n",
       "    }\n",
       "\n",
       "    .dataframe thead th {\n",
       "        text-align: right;\n",
       "    }\n",
       "</style>\n",
       "<table border=\"1\" class=\"dataframe\">\n",
       "  <thead>\n",
       "    <tr style=\"text-align: right;\">\n",
       "      <th>variable</th>\n",
       "      <th>index</th>\n",
       "      <th>CRIM</th>\n",
       "      <th>ZN</th>\n",
       "      <th>INDUS</th>\n",
       "      <th>CHAS</th>\n",
       "      <th>NOX</th>\n",
       "      <th>RM</th>\n",
       "      <th>AGE</th>\n",
       "      <th>DIS</th>\n",
       "      <th>RAD</th>\n",
       "      <th>TAX</th>\n",
       "      <th>PTRATIO</th>\n",
       "      <th>B</th>\n",
       "      <th>LSTAT</th>\n",
       "    </tr>\n",
       "  </thead>\n",
       "  <tbody>\n",
       "    <tr>\n",
       "      <th>0</th>\n",
       "      <td>estimate</td>\n",
       "      <td>-1.28777</td>\n",
       "      <td>1.475808</td>\n",
       "      <td>-0.168792</td>\n",
       "      <td>0.408832</td>\n",
       "      <td>-1.706219</td>\n",
       "      <td>2.377087</td>\n",
       "      <td>0.269956</td>\n",
       "      <td>-3.196741</td>\n",
       "      <td>2.489278</td>\n",
       "      <td>-1.945664</td>\n",
       "      <td>-1.738576</td>\n",
       "      <td>1.174297</td>\n",
       "      <td>-3.872117</td>\n",
       "    </tr>\n",
       "    <tr>\n",
       "      <th>1</th>\n",
       "      <td>estimate1</td>\n",
       "      <td>-0.00000</td>\n",
       "      <td>0.000000</td>\n",
       "      <td>-0.000000</td>\n",
       "      <td>0.000000</td>\n",
       "      <td>-0.000000</td>\n",
       "      <td>2.400912</td>\n",
       "      <td>-0.000000</td>\n",
       "      <td>-0.000000</td>\n",
       "      <td>-0.000000</td>\n",
       "      <td>-0.000000</td>\n",
       "      <td>-1.211545</td>\n",
       "      <td>0.509956</td>\n",
       "      <td>-3.622801</td>\n",
       "    </tr>\n",
       "    <tr>\n",
       "      <th>2</th>\n",
       "      <td>estimate2</td>\n",
       "      <td>-0.00000</td>\n",
       "      <td>0.000000</td>\n",
       "      <td>-0.000000</td>\n",
       "      <td>0.000000</td>\n",
       "      <td>-0.000000</td>\n",
       "      <td>1.665467</td>\n",
       "      <td>-0.000000</td>\n",
       "      <td>0.000000</td>\n",
       "      <td>-0.000000</td>\n",
       "      <td>-0.000000</td>\n",
       "      <td>-0.615034</td>\n",
       "      <td>0.000000</td>\n",
       "      <td>-3.414122</td>\n",
       "    </tr>\n",
       "    <tr>\n",
       "      <th>3</th>\n",
       "      <td>estimate3</td>\n",
       "      <td>-0.00000</td>\n",
       "      <td>0.000000</td>\n",
       "      <td>-0.000000</td>\n",
       "      <td>0.000000</td>\n",
       "      <td>-0.000000</td>\n",
       "      <td>1.061939</td>\n",
       "      <td>-0.000000</td>\n",
       "      <td>0.000000</td>\n",
       "      <td>-0.000000</td>\n",
       "      <td>-0.000000</td>\n",
       "      <td>-0.000000</td>\n",
       "      <td>0.000000</td>\n",
       "      <td>-2.960464</td>\n",
       "    </tr>\n",
       "    <tr>\n",
       "      <th>4</th>\n",
       "      <td>estimate4</td>\n",
       "      <td>-0.00000</td>\n",
       "      <td>0.000000</td>\n",
       "      <td>-0.000000</td>\n",
       "      <td>0.000000</td>\n",
       "      <td>-0.000000</td>\n",
       "      <td>0.329770</td>\n",
       "      <td>-0.000000</td>\n",
       "      <td>0.000000</td>\n",
       "      <td>-0.000000</td>\n",
       "      <td>-0.000000</td>\n",
       "      <td>-0.000000</td>\n",
       "      <td>0.000000</td>\n",
       "      <td>-2.346968</td>\n",
       "    </tr>\n",
       "  </tbody>\n",
       "</table>\n",
       "</div>"
      ],
      "text/plain": [
       "variable      index     CRIM        ZN     INDUS      CHAS       NOX  \\\n",
       "0          estimate -1.28777  1.475808 -0.168792  0.408832 -1.706219   \n",
       "1         estimate1 -0.00000  0.000000 -0.000000  0.000000 -0.000000   \n",
       "2         estimate2 -0.00000  0.000000 -0.000000  0.000000 -0.000000   \n",
       "3         estimate3 -0.00000  0.000000 -0.000000  0.000000 -0.000000   \n",
       "4         estimate4 -0.00000  0.000000 -0.000000  0.000000 -0.000000   \n",
       "\n",
       "variable        RM       AGE       DIS       RAD       TAX   PTRATIO  \\\n",
       "0         2.377087  0.269956 -3.196741  2.489278 -1.945664 -1.738576   \n",
       "1         2.400912 -0.000000 -0.000000 -0.000000 -0.000000 -1.211545   \n",
       "2         1.665467 -0.000000  0.000000 -0.000000 -0.000000 -0.615034   \n",
       "3         1.061939 -0.000000  0.000000 -0.000000 -0.000000 -0.000000   \n",
       "4         0.329770 -0.000000  0.000000 -0.000000 -0.000000 -0.000000   \n",
       "\n",
       "variable         B     LSTAT  \n",
       "0         1.174297 -3.872117  \n",
       "1         0.509956 -3.622801  \n",
       "2         0.000000 -3.414122  \n",
       "3         0.000000 -2.960464  \n",
       "4         0.000000 -2.346968  "
      ]
     },
     "execution_count": 36,
     "metadata": {},
     "output_type": "execute_result"
    }
   ],
   "source": [
    "Lasso_df.rename_axis(None).reset_index()"
   ]
  },
  {
   "cell_type": "code",
   "execution_count": 37,
   "metadata": {},
   "outputs": [
    {
     "data": {
      "image/png": "[encoded data removed]",
      "text/plain": [
       "<Figure size 720x360 with 1 Axes>"
      ]
     },
     "metadata": {
      "needs_background": "light"
     },
     "output_type": "display_data"
    }
   ],
   "source": [
    "# plot betas by lambda\n",
    "fig, ax = plt.subplots(figsize=(10, 5))\n",
    "ax.plot(Lasso_df.RM, 'r', Lasso_df.ZN, 'g', Lasso_df.RAD, 'b', Lasso_df.CRIM, 'c', Lasso_df.TAX, 'y')\n",
    "ax.axhline(y=0, color='black', linestyle='--')\n",
    "ax.set_xlabel(\"Lambda\")\n",
    "ax.set_ylabel(\"Beta Estimate\")\n",
    "ax.set_title(\"Ridge Regression Trace\", fontsize=16)\n",
    "ax.legend(labels=['Room','Residential Zone','Highway Access','Crime Rate','Tax'])\n",
    "ax.grid(True)"
   ]
  },
  {
   "cell_type": "code",
   "execution_count": null,
   "metadata": {},
   "outputs": [],
   "source": []
  }
 ],
 "metadata": {
  "kernelspec": {
   "display_name": "Python 3",
   "language": "python",
   "name": "python3"
  },
  "language_info": {
   "codemirror_mode": {
    "name": "ipython",
    "version": 3
   },
   "file_extension": ".py",
   "mimetype": "text/x-python",
   "name": "python",
   "nbconvert_exporter": "python",
   "pygments_lexer": "ipython3",
   "version": "3.7.7"
  }
 },
 "nbformat": 4,
 "nbformat_minor": 2
}
